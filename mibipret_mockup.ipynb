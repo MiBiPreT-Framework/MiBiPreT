{
 "cells": [
  {
   "cell_type": "markdown",
   "id": "4f38c873-ed85-4206-8796-06d1a4a34500",
   "metadata": {},
   "source": [
    "# MiBiPreT mock-up"
   ]
  },
  {
   "cell_type": "code",
   "execution_count": null,
   "id": "4e6c157d-0d62-443a-b867-182549352140",
   "metadata": {},
   "outputs": [],
   "source": [
    "from mibipret.data import load_excel, load_csv, check_units, check_columns, validate, preprocess, standardize, test_data, support\n",
    "from mibipret.analysis import pca, cca, rda, metabolite, stable_isotope, na_screening\n",
    "from mibipret.visualize import ordination, keeling, rayleigh, na_traffic2d, na_traffic3d, activity\n",
    "from mibipret.decision_support import tauw_report, \n",
    "from mibipret.models import modflow, phreeqc, bioscreen\n",
    "\n",
    "%matplotlib inline"
   ]
  },
  {
   "cell_type": "code",
   "execution_count": null,
   "id": "3c59067d-6b42-44bb-b3af-00deb2477e12",
   "metadata": {},
   "outputs": [],
   "source": [
    "test_data = mibipret.data.test_data()"
   ]
  },
  {
   "cell_type": "code",
   "execution_count": null,
   "id": "f35ba16f-bb30-4861-8a87-eab653aeed8d",
   "metadata": {},
   "outputs": [],
   "source": [
    "# first load data per sheet\n",
    "metabolites_data = mibipret.data.load_excel(file_path=\"path/to/data/data.xlsx\", sheet=1, verbose=True, store_provenance=True)\n",
    "hydro_data = mibipret.data.load_excel(file_path=\"path/to/data/data.xlsx\", sheet=2, verbose=True, store_provenance=True)\n",
    "contaminants_data = mibipret.data.load_excel(file_path=\"path/to/data/data.xlsx\", sheet=5, verbose=True, store_provenance=True)\n",
    "\n",
    "# or in one go\n",
    "metabolites, hydro, contaminants = mibipret.data.load_excel(file_path=\"path/to/data/data.xlsx\", sheet=[1,2,5], verbose=True, store_provenance=True)\n"
   ]
  },
  {
   "cell_type": "raw",
   "id": "60a6c2e6-016d-49a4-a245-5bb9076f2212",
   "metadata": {},
   "source": [
    "Warning: While importing your data from \"path/to/data/data.xlsx\" mibipret detected macros. Mind that these are not imported. \n",
    "Error: The second line in \"path/to/data/data.xlsx\" is supposed to specify the units. No units were detected in this line, check www.mibipretdocs.nl/dataloading. "
   ]
  },
  {
   "cell_type": "code",
   "execution_count": null,
   "id": "927402e9-6a89-4b0d-9dc5-2c7e22e8b111",
   "metadata": {},
   "outputs": [],
   "source": [
    "# standardize runs check_units, check_columns and validation under the hood\n",
    "st_sample_data = mibipret.data.standardize(data=[contaminants, metabolites], data_type=\"sample\", store_csv=True, verbose=True, store_provenance=True)"
   ]
  },
  {
   "cell_type": "raw",
   "id": "bc745a96-c3fa-4359-8e58-fe32ded5ff9a",
   "metadata": {},
   "source": [
    "Warning: Column \"O2\" standardized to \"oxygen\"\n",
    "Warning: Unit \"kg/m3\" of column \"oxygen\" was assumed to be \"microgram/liter\", make sure this conversion is valid. Check www.mibipretdocs.nl/unit-conversion."
   ]
  },
  {
   "cell_type": "code",
   "execution_count": null,
   "id": "ad96ad52-0fa4-4188-9804-32809b48db67",
   "metadata": {},
   "outputs": [],
   "source": [
    "# "
   ]
  },
  {
   "cell_type": "code",
   "execution_count": null,
   "id": "aa1ab692-63ed-4b1b-b719-b437fd0ab9dc",
   "metadata": {},
   "outputs": [],
   "source": [
    "# perform natural attenuation screening for contaminants provided in list or defaulting to the default set \"BTEXIIN\"\n",
    "# na_screening uses stochiometric equations to analyze electron balance, these equations are contained in included file\n",
    "# potentially link to online database\n",
    "# if geographical data (x,y,z) for each well is in the original dataset, this will be also stored in the na_output\n",
    "na_output = mibipret.analysis.na_screening(data=st_data, contaminants=[\"name1\", \"name2\", \"name3\"])\n",
    "na_output"
   ]
  },
  {
   "cell_type": "raw",
   "id": "0bac3b75-0d60-4a32-97ec-80da68418f46",
   "metadata": {},
   "source": []
  },
  {
   "cell_type": "code",
   "execution_count": null,
   "id": "c68a5389-225d-4108-8bed-2fd58cad6afe",
   "metadata": {},
   "outputs": [],
   "source": [
    "mibipret.visualize.na_traffic3d(na_output=na_output, save_fig=\"plot_name.jpg\")"
   ]
  },
  {
   "cell_type": "raw",
   "id": "e49e58ee-aa0d-426d-8f31-e8506bd2b87f",
   "metadata": {},
   "source": []
  },
  {
   "cell_type": "code",
   "execution_count": null,
   "id": "4a79b3b7-3cb6-452d-9e13-1ab606eceea5",
   "metadata": {},
   "outputs": [],
   "source": [
    "# at the end build the report, the report might take as input all the intermediate steps in the notebook\n",
    "# or it might only take the standardized data, it will then execute all steps that are necessary\n",
    "# Users might contribute these decision_support \"recipes\" themselves. They could either be in notebook format\n",
    "# or in some other workflow specification. Still to be decided.\n",
    "\n",
    "mibipret.decision_support.tauw_report(na_output, format=\"latex\")"
   ]
  }
 ],
 "metadata": {
  "kernelspec": {
   "display_name": "Python 3 (ipykernel)",
   "language": "python",
   "name": "python3"
  },
  "language_info": {
   "codemirror_mode": {
    "name": "ipython",
    "version": 3
   },
   "file_extension": ".py",
   "mimetype": "text/x-python",
   "name": "python",
   "nbconvert_exporter": "python",
   "pygments_lexer": "ipython3",
   "version": "3.8.6"
  }
 },
 "nbformat": 4,
 "nbformat_minor": 5
}
